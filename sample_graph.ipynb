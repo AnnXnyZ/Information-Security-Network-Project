{
 "cells": [
  {
   "cell_type": "code",
   "execution_count": 2,
   "metadata": {},
   "outputs": [],
   "source": [
    "import networkx as nx\n",
    "import numpy as np\n",
    "\n",
    "edge_path = './data/musae_ENGB_edges.csv'\n",
    "data = np.genfromtxt(edge_path, delimiter=',', dtype=str, skip_header=1)\n",
    "data=[list( map(int,i) ) for i in data]\n",
    "G = nx.DiGraph()\n",
    "for row in data:\n",
    "    source_node, target_node = row\n",
    "    G.add_edge(source_node, target_node)"
   ]
  },
  {
   "cell_type": "code",
   "execution_count": 3,
   "metadata": {},
   "outputs": [],
   "source": [
    "import random\n",
    "\n",
    "def forest_fire_sampling_directed(graph, start_node, p=0.5, num_nodes_to_sample=1000):\n",
    "    sampled_nodes = set()\n",
    "    queue = [start_node]\n",
    "    while queue and len(sampled_nodes) < num_nodes_to_sample:\n",
    "        current_node = queue.pop(0)\n",
    "        if current_node not in sampled_nodes:\n",
    "            sampled_nodes.add(current_node)\n",
    "            neighbors = list(graph.successors(current_node)) + list(graph.predecessors(current_node))\n",
    "            random.shuffle(neighbors)\n",
    "            for neighbor in neighbors:\n",
    "                if neighbor not in sampled_nodes and random.random() <= p:\n",
    "                    queue.append(neighbor)\n",
    "\n",
    "    sampled_graph = graph.subgraph(sampled_nodes)\n",
    "    return sampled_graph\n",
    "\n",
    "seed_node = random.choice(list(G.nodes))\n",
    "sampled_graph = forest_fire_sampling_directed(G, seed_node)"
   ]
  },
  {
   "cell_type": "code",
   "execution_count": 4,
   "metadata": {},
   "outputs": [
    {
     "name": "stdout",
     "output_type": "stream",
     "text": [
      "DiGraph with 1000 nodes and 5683 edges\n"
     ]
    }
   ],
   "source": [
    "print(sampled_graph)"
   ]
  },
  {
   "cell_type": "code",
   "execution_count": null,
   "metadata": {},
   "outputs": [],
   "source": [
    "nx.write_edgelist(sampled_graph,'./data/sub_graph.csv', delimiter=',', data = False)"
   ]
  }
 ],
 "metadata": {
  "kernelspec": {
   "display_name": "env",
   "language": "python",
   "name": "python3"
  },
  "language_info": {
   "codemirror_mode": {
    "name": "ipython",
    "version": 3
   },
   "file_extension": ".py",
   "mimetype": "text/x-python",
   "name": "python",
   "nbconvert_exporter": "python",
   "pygments_lexer": "ipython3",
   "version": "3.10.11"
  }
 },
 "nbformat": 4,
 "nbformat_minor": 2
}
