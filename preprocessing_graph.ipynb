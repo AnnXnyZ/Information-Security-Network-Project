{
 "cells": [
  {
   "cell_type": "code",
   "execution_count": 10,
   "metadata": {},
   "outputs": [],
   "source": [
    "import networkx as nx"
   ]
  },
  {
   "cell_type": "code",
   "execution_count": 11,
   "metadata": {},
   "outputs": [],
   "source": [
    "g = nx.read_edgelist('./data/sub_graph.csv', create_using=nx.DiGraph(), delimiter=',', data = False)"
   ]
  },
  {
   "cell_type": "code",
   "execution_count": 12,
   "metadata": {},
   "outputs": [
    {
     "name": "stdout",
     "output_type": "stream",
     "text": [
      "DiGraph with 1000 nodes and 5683 edges\n"
     ]
    }
   ],
   "source": [
    "print(g)"
   ]
  },
  {
   "cell_type": "code",
   "execution_count": 16,
   "metadata": {},
   "outputs": [
    {
     "name": "stdout",
     "output_type": "stream",
     "text": [
      "iteration:  0 \tlen of miss edges:  0\n",
      "iteration:  100 \tlen of miss edges:  96\n",
      "iteration:  200 \tlen of miss edges:  190\n",
      "iteration:  300 \tlen of miss edges:  283\n",
      "iteration:  400 \tlen of miss edges:  372\n",
      "iteration:  500 \tlen of miss edges:  462\n",
      "iteration:  600 \tlen of miss edges:  560\n",
      "iteration:  700 \tlen of miss edges:  653\n",
      "iteration:  800 \tlen of miss edges:  742\n",
      "iteration:  900 \tlen of miss edges:  829\n",
      "iteration:  1000 \tlen of miss edges:  922\n",
      "iteration:  1100 \tlen of miss edges:  1014\n",
      "iteration:  1200 \tlen of miss edges:  1110\n",
      "iteration:  1300 \tlen of miss edges:  1202\n",
      "iteration:  1400 \tlen of miss edges:  1294\n",
      "iteration:  1500 \tlen of miss edges:  1383\n",
      "iteration:  1600 \tlen of miss edges:  1476\n",
      "iteration:  1700 \tlen of miss edges:  1567\n",
      "iteration:  1800 \tlen of miss edges:  1660\n",
      "iteration:  1900 \tlen of miss edges:  1747\n",
      "iteration:  2000 \tlen of miss edges:  1839\n",
      "iteration:  2100 \tlen of miss edges:  1934\n",
      "iteration:  2200 \tlen of miss edges:  2027\n",
      "iteration:  2300 \tlen of miss edges:  2120\n",
      "iteration:  2400 \tlen of miss edges:  2214\n",
      "iteration:  2500 \tlen of miss edges:  2306\n",
      "iteration:  2600 \tlen of miss edges:  2402\n",
      "iteration:  2700 \tlen of miss edges:  2493\n",
      "iteration:  2800 \tlen of miss edges:  2584\n",
      "iteration:  2900 \tlen of miss edges:  2676\n",
      "iteration:  3000 \tlen of miss edges:  2768\n",
      "iteration:  3100 \tlen of miss edges:  2856\n",
      "iteration:  3200 \tlen of miss edges:  2945\n",
      "iteration:  3300 \tlen of miss edges:  3039\n",
      "iteration:  3400 \tlen of miss edges:  3132\n",
      "iteration:  3500 \tlen of miss edges:  3224\n",
      "iteration:  3600 \tlen of miss edges:  3315\n",
      "iteration:  3700 \tlen of miss edges:  3404\n",
      "iteration:  3800 \tlen of miss edges:  3495\n",
      "iteration:  3900 \tlen of miss edges:  3586\n",
      "iteration:  4000 \tlen of miss edges:  3679\n",
      "iteration:  4100 \tlen of miss edges:  3774\n",
      "iteration:  4200 \tlen of miss edges:  3864\n",
      "iteration:  4300 \tlen of miss edges:  3954\n",
      "iteration:  4400 \tlen of miss edges:  4053\n",
      "iteration:  4500 \tlen of miss edges:  4148\n",
      "iteration:  4600 \tlen of miss edges:  4239\n",
      "iteration:  4700 \tlen of miss edges:  4331\n",
      "iteration:  4800 \tlen of miss edges:  4423\n",
      "iteration:  4900 \tlen of miss edges:  4518\n",
      "iteration:  5000 \tlen of miss edges:  4611\n",
      "iteration:  5100 \tlen of miss edges:  4703\n",
      "iteration:  5200 \tlen of miss edges:  4791\n",
      "iteration:  5300 \tlen of miss edges:  4887\n",
      "iteration:  5400 \tlen of miss edges:  4979\n",
      "iteration:  5500 \tlen of miss edges:  5073\n",
      "iteration:  5600 \tlen of miss edges:  5153\n",
      "iteration:  5700 \tlen of miss edges:  5250\n",
      "iteration:  5800 \tlen of miss edges:  5335\n",
      "iteration:  5900 \tlen of miss edges:  5427\n",
      "iteration:  6000 \tlen of miss edges:  5517\n",
      "iteration:  6100 \tlen of miss edges:  5609\n",
      "\n",
      "\n",
      "time taken:  0.18330073356628418\n"
     ]
    }
   ],
   "source": [
    "import pickle\n",
    "import random\n",
    "import time\n",
    "st = time.time()\n",
    "\n",
    "edges = dict()\n",
    "for edge in g.edges:\n",
    "    edges[(edge[0], edge[1])] = 1\n",
    "    \n",
    "number_of_edges = len(edges)\n",
    "missing_edges = set([])\n",
    "count = 0\n",
    "\n",
    "nodes = list(g.nodes)\n",
    "while (len(missing_edges)<number_of_edges):\n",
    "    if count % 100 == 0:\n",
    "        print('iteration: ', count, '\\tlen of miss edges: ', len(missing_edges))\n",
    "    count += 1\n",
    "    \n",
    "    a=random.choice(nodes)\n",
    "    b=random.choice(nodes)\n",
    "    tmp = edges.get((a,b),-1)\n",
    "    if tmp == -1 and a!=b:\n",
    "        try:\n",
    "            # adding points who less likely to be friends\n",
    "            if nx.shortest_path_length(g,source=a,target=b) > 2: \n",
    "                missing_edges.add((a,b))\n",
    "            else:\n",
    "                continue  \n",
    "        except:  \n",
    "                missing_edges.add((a,b))              \n",
    "    else:\n",
    "        continue\n",
    "        \n",
    "end = time.time()\n",
    "print('\\n\\ntime taken: ', end-st)"
   ]
  },
  {
   "cell_type": "code",
   "execution_count": 17,
   "metadata": {},
   "outputs": [],
   "source": [
    "pickle.dump(missing_edges,open('./data/missing_edges.p','wb'))"
   ]
  },
  {
   "cell_type": "code",
   "execution_count": 19,
   "metadata": {},
   "outputs": [
    {
     "data": {
      "text/plain": [
       "5683"
      ]
     },
     "execution_count": 19,
     "metadata": {},
     "output_type": "execute_result"
    }
   ],
   "source": [
    "len(missing_edges)"
   ]
  }
 ],
 "metadata": {
  "kernelspec": {
   "display_name": "env",
   "language": "python",
   "name": "python3"
  },
  "language_info": {
   "codemirror_mode": {
    "name": "ipython",
    "version": 3
   },
   "file_extension": ".py",
   "mimetype": "text/x-python",
   "name": "python",
   "nbconvert_exporter": "python",
   "pygments_lexer": "ipython3",
   "version": "3.10.11"
  }
 },
 "nbformat": 4,
 "nbformat_minor": 2
}
