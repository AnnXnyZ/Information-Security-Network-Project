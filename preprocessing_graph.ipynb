{
 "cells": [
  {
   "cell_type": "code",
   "execution_count": 1,
   "metadata": {},
   "outputs": [],
   "source": [
    "import networkx as nx"
   ]
  },
  {
   "cell_type": "code",
   "execution_count": 2,
   "metadata": {},
   "outputs": [],
   "source": [
    "data = open('./data/musae_ENGB_edges.csv')\n",
    "next(data)\n",
    "g = nx.read_edgelist(data, create_using=nx.DiGraph(), delimiter=',', nodetype=int)"
   ]
  },
  {
   "cell_type": "code",
   "execution_count": 3,
   "metadata": {},
   "outputs": [
    {
     "name": "stdout",
     "output_type": "stream",
     "text": [
      "DiGraph with 7126 nodes and 35324 edges\n"
     ]
    }
   ],
   "source": [
    "print(g)"
   ]
  },
  {
   "cell_type": "code",
   "execution_count": 3,
   "metadata": {},
   "outputs": [
    {
     "name": "stdout",
     "output_type": "stream",
     "text": [
      "iteration:  0 \tlen of miss edges:  0 \tedges left:  1768149\n",
      "iteration:  500 \tlen of miss edges:  500 \tedges left:  1767649\n",
      "iteration:  1000 \tlen of miss edges:  1000 \tedges left:  1767149\n",
      "iteration:  1500 \tlen of miss edges:  1500 \tedges left:  1766649\n",
      "iteration:  2000 \tlen of miss edges:  2000 \tedges left:  1766149\n",
      "iteration:  2500 \tlen of miss edges:  2500 \tedges left:  1765649\n",
      "iteration:  3000 \tlen of miss edges:  3000 \tedges left:  1765149\n",
      "iteration:  3500 \tlen of miss edges:  3500 \tedges left:  1764649\n",
      "iteration:  4000 \tlen of miss edges:  4000 \tedges left:  1764149\n",
      "iteration:  4500 \tlen of miss edges:  4500 \tedges left:  1763649\n",
      "iteration:  5000 \tlen of miss edges:  5000 \tedges left:  1763149\n",
      "iteration:  5500 \tlen of miss edges:  5500 \tedges left:  1762649\n",
      "iteration:  6000 \tlen of miss edges:  6000 \tedges left:  1762149\n",
      "iteration:  6500 \tlen of miss edges:  6500 \tedges left:  1761649\n",
      "iteration:  7000 \tlen of miss edges:  7000 \tedges left:  1761149\n",
      "iteration:  7500 \tlen of miss edges:  7500 \tedges left:  1760649\n",
      "iteration:  8000 \tlen of miss edges:  8000 \tedges left:  1760149\n",
      "iteration:  8500 \tlen of miss edges:  8500 \tedges left:  1759649\n",
      "iteration:  9000 \tlen of miss edges:  9000 \tedges left:  1759149\n",
      "iteration:  9500 \tlen of miss edges:  9500 \tedges left:  1758649\n",
      "iteration:  10000 \tlen of miss edges:  10000 \tedges left:  1758149\n",
      "iteration:  10500 \tlen of miss edges:  10500 \tedges left:  1757649\n",
      "iteration:  11000 \tlen of miss edges:  11000 \tedges left:  1757149\n",
      "iteration:  11500 \tlen of miss edges:  11500 \tedges left:  1756649\n",
      "iteration:  12000 \tlen of miss edges:  12000 \tedges left:  1756149\n",
      "iteration:  12500 \tlen of miss edges:  12500 \tedges left:  1755649\n",
      "iteration:  13000 \tlen of miss edges:  13000 \tedges left:  1755149\n",
      "iteration:  13500 \tlen of miss edges:  13500 \tedges left:  1754649\n",
      "iteration:  14000 \tlen of miss edges:  14000 \tedges left:  1754149\n",
      "iteration:  14500 \tlen of miss edges:  14500 \tedges left:  1753649\n",
      "iteration:  15000 \tlen of miss edges:  15000 \tedges left:  1753149\n",
      "iteration:  15500 \tlen of miss edges:  15500 \tedges left:  1752649\n",
      "iteration:  16000 \tlen of miss edges:  16000 \tedges left:  1752149\n",
      "iteration:  16500 \tlen of miss edges:  16500 \tedges left:  1751649\n",
      "iteration:  17000 \tlen of miss edges:  17000 \tedges left:  1751149\n",
      "iteration:  17500 \tlen of miss edges:  17500 \tedges left:  1750649\n",
      "iteration:  18000 \tlen of miss edges:  18000 \tedges left:  1750149\n",
      "iteration:  18500 \tlen of miss edges:  18499 \tedges left:  1749650\n",
      "iteration:  19000 \tlen of miss edges:  18999 \tedges left:  1749150\n",
      "iteration:  19500 \tlen of miss edges:  19499 \tedges left:  1748650\n",
      "iteration:  20000 \tlen of miss edges:  19999 \tedges left:  1748150\n",
      "iteration:  20500 \tlen of miss edges:  20499 \tedges left:  1747650\n",
      "iteration:  21000 \tlen of miss edges:  20999 \tedges left:  1747150\n",
      "iteration:  21500 \tlen of miss edges:  21499 \tedges left:  1746650\n",
      "iteration:  22000 \tlen of miss edges:  21999 \tedges left:  1746150\n",
      "iteration:  22500 \tlen of miss edges:  22499 \tedges left:  1745650\n",
      "iteration:  23000 \tlen of miss edges:  22999 \tedges left:  1745150\n",
      "iteration:  23500 \tlen of miss edges:  23499 \tedges left:  1744650\n",
      "iteration:  24000 \tlen of miss edges:  23999 \tedges left:  1744150\n",
      "iteration:  24500 \tlen of miss edges:  24499 \tedges left:  1743650\n",
      "iteration:  25000 \tlen of miss edges:  24999 \tedges left:  1743150\n",
      "iteration:  25500 \tlen of miss edges:  25499 \tedges left:  1742650\n",
      "iteration:  26000 \tlen of miss edges:  25999 \tedges left:  1742150\n",
      "iteration:  26500 \tlen of miss edges:  26499 \tedges left:  1741650\n",
      "iteration:  27000 \tlen of miss edges:  26999 \tedges left:  1741150\n",
      "iteration:  27500 \tlen of miss edges:  27499 \tedges left:  1740650\n",
      "iteration:  28000 \tlen of miss edges:  27999 \tedges left:  1740150\n",
      "iteration:  28500 \tlen of miss edges:  28499 \tedges left:  1739650\n",
      "iteration:  29000 \tlen of miss edges:  28999 \tedges left:  1739150\n",
      "iteration:  29500 \tlen of miss edges:  29499 \tedges left:  1738650\n",
      "iteration:  30000 \tlen of miss edges:  29998 \tedges left:  1738151\n",
      "iteration:  30500 \tlen of miss edges:  30497 \tedges left:  1737652\n",
      "iteration:  31000 \tlen of miss edges:  30997 \tedges left:  1737152\n",
      "iteration:  31500 \tlen of miss edges:  31497 \tedges left:  1736652\n",
      "iteration:  32000 \tlen of miss edges:  31997 \tedges left:  1736152\n",
      "iteration:  32500 \tlen of miss edges:  32496 \tedges left:  1735653\n",
      "iteration:  33000 \tlen of miss edges:  32996 \tedges left:  1735153\n",
      "iteration:  33500 \tlen of miss edges:  33496 \tedges left:  1734653\n",
      "iteration:  34000 \tlen of miss edges:  33996 \tedges left:  1734153\n",
      "iteration:  34500 \tlen of miss edges:  34496 \tedges left:  1733653\n",
      "iteration:  35000 \tlen of miss edges:  34996 \tedges left:  1733153\n",
      "\n",
      "\n",
      "time taken:  0.14765167236328125\n"
     ]
    }
   ],
   "source": [
    "import pickle\n",
    "import random\n",
    "import time\n",
    "st = time.time()\n",
    "\n",
    "edges = dict()\n",
    "for edge in g.edges:\n",
    "    edges[(edge[0], edge[1])] = 1\n",
    "    \n",
    "missing_edges = set([])\n",
    "count = 0\n",
    "\n",
    "while (len(missing_edges)<35324):\n",
    "    if count % 500 == 0:\n",
    "        print('iteration: ', count, '\\tlen of miss edges: ', len(missing_edges), '\\tedges left: ', 1768149-len(missing_edges))\n",
    "    count += 1\n",
    "    \n",
    "    a=random.randint(0, 81305)\n",
    "    b=random.randint(0, 81305)\n",
    "    tmp = edges.get((a,b),-1)\n",
    "    if tmp == -1 and a!=b:\n",
    "        try:\n",
    "            # adding points who less likely to be friends\n",
    "            if nx.shortest_path_length(g,source=a,target=b) > 2: \n",
    "                missing_edges.add((a,b))\n",
    "            else:\n",
    "                continue  \n",
    "        except:  \n",
    "                missing_edges.add((a,b))              \n",
    "    else:\n",
    "        continue\n",
    "        \n",
    "end = time.time()\n",
    "print('\\n\\ntime taken: ', end-st)"
   ]
  },
  {
   "cell_type": "code",
   "execution_count": 4,
   "metadata": {},
   "outputs": [],
   "source": [
    "pickle.dump(missing_edges,open('./data/missing_edges.p','wb'))"
   ]
  },
  {
   "cell_type": "code",
   "execution_count": 5,
   "metadata": {},
   "outputs": [
    {
     "data": {
      "text/plain": [
       "35324"
      ]
     },
     "execution_count": 5,
     "metadata": {},
     "output_type": "execute_result"
    }
   ],
   "source": [
    "len(missing_edges)"
   ]
  }
 ],
 "metadata": {
  "kernelspec": {
   "display_name": "env",
   "language": "python",
   "name": "python3"
  },
  "language_info": {
   "codemirror_mode": {
    "name": "ipython",
    "version": 3
   },
   "file_extension": ".py",
   "mimetype": "text/x-python",
   "name": "python",
   "nbconvert_exporter": "python",
   "pygments_lexer": "ipython3",
   "version": "3.10.11"
  }
 },
 "nbformat": 4,
 "nbformat_minor": 2
}
