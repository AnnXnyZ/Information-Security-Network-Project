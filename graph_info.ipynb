{
 "cells": [
  {
   "cell_type": "code",
   "execution_count": 2,
   "metadata": {},
   "outputs": [],
   "source": [
    "import networkx as nx\n",
    "\n",
    "data = open('./data/musae_ENGB_edges.csv')\n",
    "next(data)\n",
    "G = nx.read_edgelist(data, create_using=nx.DiGraph(), delimiter=',', nodetype=int)"
   ]
  },
  {
   "cell_type": "code",
   "execution_count": 2,
   "metadata": {},
   "outputs": [
    {
     "name": "stdout",
     "output_type": "stream",
     "text": [
      "Number of nodes: 7126\n",
      "Number of edges: 35324\n",
      "\n",
      "Minimum degree: 1\n",
      "Maximum degree: 720\n",
      "Mean Degree: 9.914117316867808\n",
      "Median Degree: 5\n",
      "Mode Degree: 1\n"
     ]
    }
   ],
   "source": [
    "import numpy as np\n",
    "\n",
    "degrees = dict(G.degree())\n",
    "print(\"Number of nodes:\", G.number_of_nodes())\n",
    "print(\"Number of edges:\", G.number_of_edges())\n",
    "print(\"\\nMinimum degree:\", min(degrees.values()))\n",
    "print(\"Maximum degree:\", max(degrees.values()))\n",
    "print(\"Mean Degree:\", sum(degrees.values()) / len(G))\n",
    "degree_sequence = sorted((d for n, d in G.degree()), reverse=True)\n",
    "node_counts = np.unique(degree_sequence, return_counts=True)\n",
    "print(\"Median Degree:\", degree_sequence[len(degree_sequence)//2])\n",
    "print(\"Mode Degree:\", node_counts[0][0])"
   ]
  },
  {
   "cell_type": "code",
   "execution_count": 6,
   "metadata": {},
   "outputs": [
    {
     "name": "stdout",
     "output_type": "stream",
     "text": [
      "Minimum indegree: 0\n",
      "Maximum indegree: 465\n",
      "Mean indegree: 4.957058658433904\n",
      "Median indegree: 5\n",
      "Mode indegree: 0\n",
      "\n",
      "Minimum outdegrees: 0\n",
      "Maximum outdegrees: 540\n",
      "Mean outdegree: 4.957058658433904\n",
      "Median outdegree: 5\n",
      "Mode outdegree: 0\n"
     ]
    }
   ],
   "source": [
    "indegrees = dict(G.in_degree())\n",
    "outdegrees = dict(G.out_degree())\n",
    "print(\"Minimum indegree:\", min(indegrees.values()))\n",
    "print(\"Maximum indegree:\", max(indegrees.values()))\n",
    "print(\"Mean indegree:\", sum(indegrees.values()) / len(G))\n",
    "indegree_sequence = sorted((d for n, d in G.in_degree()), reverse=True)\n",
    "node_counts = np.unique(indegree_sequence, return_counts=True)\n",
    "print(\"Median indegree:\", degree_sequence[len(degree_sequence)//2])\n",
    "print(\"Mode indegree:\", node_counts[0][0])\n",
    "\n",
    "print(\"\\nMinimum outdegrees:\", min(outdegrees.values()))\n",
    "print(\"Maximum outdegrees:\", max(outdegrees.values()))\n",
    "print(\"Mean outdegree:\", sum(outdegrees.values()) / len(G))\n",
    "outdegree_sequence = sorted((d for n, d in G.out_degree()), reverse=True)\n",
    "node_counts = np.unique(outdegree_sequence, return_counts=True)\n",
    "print(\"Median outdegree:\", degree_sequence[len(degree_sequence)//2])\n",
    "print(\"Mode outdegree:\", node_counts[0][0])"
   ]
  },
  {
   "cell_type": "code",
   "execution_count": 4,
   "metadata": {},
   "outputs": [
    {
     "name": "stdout",
     "output_type": "stream",
     "text": [
      "Minimum degree: 1\n",
      "Maximum degree: 407\n"
     ]
    }
   ],
   "source": [
    "data = open('./data/sub_graph.csv')\n",
    "G = nx.read_edgelist(data, create_using=nx.DiGraph(), delimiter=',', nodetype=int)\n",
    "degrees = dict(G.degree())\n",
    "print(\"Minimum degree:\", min(degrees.values()))\n",
    "print(\"Maximum degree:\", max(degrees.values()))"
   ]
  }
 ],
 "metadata": {
  "kernelspec": {
   "display_name": "env",
   "language": "python",
   "name": "python3"
  },
  "language_info": {
   "codemirror_mode": {
    "name": "ipython",
    "version": 3
   },
   "file_extension": ".py",
   "mimetype": "text/x-python",
   "name": "python",
   "nbconvert_exporter": "python",
   "pygments_lexer": "ipython3",
   "version": "3.10.11"
  }
 },
 "nbformat": 4,
 "nbformat_minor": 2
}
